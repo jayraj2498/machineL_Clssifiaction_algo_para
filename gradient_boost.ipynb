{
 "cells": [
  {
   "cell_type": "code",
   "execution_count": 10,
   "metadata": {},
   "outputs": [],
   "source": [
    "from sklearn.model_selection import train_test_split, RandomizedSearchCV\n",
    "from sklearn.ensemble import GradientBoostingClassifier\n",
    "from sklearn.metrics import accuracy_score, classification_report\n",
    "from sklearn.datasets import load_digits"
   ]
  },
  {
   "cell_type": "code",
   "execution_count": 12,
   "metadata": {},
   "outputs": [],
   "source": [
    "digits = load_digits()\n",
    "X = digits.data\n",
    "y = digits.target\n",
    "\n",
    "# Split the data into training and testing sets\n",
    "X_train, X_test, y_train, y_test = train_test_split(X, y, test_size=0.2, random_state=42)"
   ]
  },
  {
   "cell_type": "code",
   "execution_count": 13,
   "metadata": {},
   "outputs": [],
   "source": [
    "# Define the GradientBoostingClassifier\n",
    "gb_classifier = GradientBoostingClassifier()\n",
    "\n",
    "# Define a reduced search space\n",
    "gb_params = {'n_estimators': [50, 100],\n",
    "             'learning_rate': [0.01, 0.1],\n",
    "             'max_depth': [3, 5],\n",
    "             'subsample': [0.8, 1.0],\n",
    "             'min_samples_split': [2, 5],\n",
    "             'min_samples_leaf': [1, 2]}"
   ]
  },
  {
   "cell_type": "code",
   "execution_count": 14,
   "metadata": {},
   "outputs": [
    {
     "name": "stdout",
     "output_type": "stream",
     "text": [
      "Best hyperparameters: {'subsample': 0.8, 'n_estimators': 100, 'min_samples_split': 2, 'min_samples_leaf': 2, 'max_depth': 5, 'learning_rate': 0.1}\n"
     ]
    }
   ],
   "source": [
    "randomized_cv = RandomizedSearchCV(gb_classifier, gb_params, scoring='accuracy', cv=5, n_iter=10, random_state=42)\n",
    "randomized_cv.fit(X_train, y_train)\n",
    "\n",
    "\n",
    "print(f'Best hyperparameters: {randomized_cv.best_params_}')"
   ]
  },
  {
   "cell_type": "code",
   "execution_count": 15,
   "metadata": {},
   "outputs": [],
   "source": [
    "best_model_randomized = randomized_cv.best_estimator_\n",
    "y_pred_randomized = best_model_randomized.predict(X_test)"
   ]
  },
  {
   "cell_type": "code",
   "execution_count": 16,
   "metadata": {},
   "outputs": [
    {
     "name": "stdout",
     "output_type": "stream",
     "text": [
      "RandomizedSearchCV - GradientBoosting Classifier:\n",
      "Accuracy on test set: 0.97\n",
      "Classification Report:\n",
      "              precision    recall  f1-score   support\n",
      "\n",
      "           0       1.00      1.00      1.00        33\n",
      "           1       1.00      0.96      0.98        28\n",
      "           2       1.00      1.00      1.00        33\n",
      "           3       0.97      0.94      0.96        34\n",
      "           4       1.00      1.00      1.00        46\n",
      "           5       0.96      0.96      0.96        47\n",
      "           6       0.97      0.94      0.96        35\n",
      "           7       0.97      0.97      0.97        34\n",
      "           8       0.94      1.00      0.97        30\n",
      "           9       0.95      0.97      0.96        40\n",
      "\n",
      "    accuracy                           0.97       360\n",
      "   macro avg       0.98      0.98      0.98       360\n",
      "weighted avg       0.98      0.97      0.97       360\n",
      "\n"
     ]
    }
   ],
   "source": [
    "accuracy_randomized = accuracy_score(y_test, y_pred_randomized)\n",
    "report_randomized = classification_report(y_test, y_pred_randomized)\n",
    "\n",
    "print(\"RandomizedSearchCV - GradientBoosting Classifier:\")\n",
    "print(f'Accuracy on test set: {accuracy_randomized:.2f}')\n",
    "print(f'Classification Report:\\n{report_randomized}')"
   ]
  },
  {
   "cell_type": "code",
   "execution_count": null,
   "metadata": {},
   "outputs": [],
   "source": []
  },
  {
   "cell_type": "code",
   "execution_count": null,
   "metadata": {},
   "outputs": [],
   "source": [
    "from sklearn.model_selection import train_test_split, RandomizedSearchCV\n",
    "from sklearn.ensemble import GradientBoostingClassifier\n",
    "from sklearn.metrics import accuracy_score, classification_report\n",
    "from sklearn.datasets import load_digits\n",
    "\n",
    "# Load the Digits dataset\n",
    "digits = load_digits()\n",
    "X = digits.data\n",
    "y = digits.target\n",
    "\n",
    "# Split the data into training and testing sets\n",
    "X_train, X_test, y_train, y_test = train_test_split(X, y, test_size=0.2, random_state=42)\n",
    "\n",
    "# Define the GradientBoostingClassifier\n",
    "gb_classifier = GradientBoostingClassifier()\n",
    "\n",
    "# Define a reduced search space\n",
    "gb_params = {'n_estimators': [50, 100],\n",
    "             'learning_rate': [0.01, 0.1],\n",
    "             'max_depth': [3, 5],\n",
    "             'subsample': [0.8, 1.0],\n",
    "             'min_samples_split': [2, 5],\n",
    "             'min_samples_leaf': [1, 2]}\n",
    "\n",
    "# Use RandomizedSearchCV\n",
    "randomized_cv = RandomizedSearchCV(gb_classifier, gb_params, scoring='accuracy', cv=5, n_iter=10, random_state=42)\n",
    "randomized_cv.fit(X_train, y_train)\n",
    "\n",
    "# Print the best hyperparameters\n",
    "print(f'Best hyperparameters: {randomized_cv.best_params_}')\n",
    "\n",
    "# Use the best model to make predictions on the test set\n",
    "best_model_randomized = randomized_cv.best_estimator_\n",
    "y_pred_randomized = best_model_randomized.predict(X_test)\n",
    "\n",
    "# Evaluate the model's performance\n",
    "accuracy_randomized = accuracy_score(y_test, y_pred_randomized)\n",
    "report_randomized = classification_report(y_test, y_pred_randomized)\n",
    "\n",
    "print(\"RandomizedSearchCV - GradientBoosting Classifier:\")\n",
    "print(f'Accuracy on test set: {accuracy_randomized:.2f}')\n",
    "print(f'Classification Report:\\n{report_randomized}')\n"
   ]
  },
  {
   "cell_type": "code",
   "execution_count": null,
   "metadata": {},
   "outputs": [],
   "source": []
  },
  {
   "cell_type": "code",
   "execution_count": null,
   "metadata": {},
   "outputs": [],
   "source": []
  },
  {
   "cell_type": "code",
   "execution_count": 5,
   "metadata": {},
   "outputs": [],
   "source": [
    "digits = load_digits()\n",
    "X = digits.data\n",
    "y = digits.target\n",
    "\n",
    "X_train, X_test, y_train, y_test = train_test_split(X, y, test_size=0.2, random_state=42)\n"
   ]
  },
  {
   "cell_type": "code",
   "execution_count": null,
   "metadata": {},
   "outputs": [],
   "source": [
    "from sklearn.ensemble import GradientBoostingClassifier\n",
    "\n",
    "# Define the GradientBoostingClassifier\n",
    "gb_classifier = GradientBoostingClassifier()"
   ]
  },
  {
   "cell_type": "code",
   "execution_count": 6,
   "metadata": {},
   "outputs": [],
   "source": [
    "xg_params = {'n_estimators': [50, 100],\n",
    "             'learning_rate': [0.01, 0.1],\n",
    "             'max_depth': [3, 5],\n",
    "             'subsample': [0.8, 1.0],\n",
    "             'min_samples_split': [2, 5],\n",
    "             'min_samples_leaf': [1, 2]}"
   ]
  },
  {
   "cell_type": "code",
   "execution_count": null,
   "metadata": {},
   "outputs": [],
   "source": [
    "randomized_cv = RandomizedSearchCV(gb_classifier, gb_params, scoring='accuracy', cv=5, n_iter=10, random_state=42)\n",
    "randomized_cv.fit(X_train, y_train)"
   ]
  },
  {
   "cell_type": "code",
   "execution_count": null,
   "metadata": {},
   "outputs": [],
   "source": [
    "\n",
    "best_n_estimators = gb_grid_cv.best_params_['n_estimators']\n",
    "best_learning_rate = gb_grid_cv.best_params_['learning_rate']\n",
    "best_max_depth = gb_grid_cv.best_params_['max_depth']\n",
    "best_subsample = gb_grid_cv.best_params_['subsample']\n",
    "best_min_samples_split = gb_grid_cv.best_params_['min_samples_split']\n",
    "best_min_samples_leaf = gb_grid_cv.best_params_['min_samples_leaf']\n",
    "\n",
    "\n",
    "print(f'Best n_estimators: {best_n_estimators}')\n",
    "print(f'Best learning_rate: {best_learning_rate}')\n",
    "print(f'Best max_depth: {best_max_depth}')\n",
    "print(f'Best subsample: {best_subsample}')\n",
    "print(f'Best min_samples_split: {best_min_samples_split}')\n",
    "print(f'Best min_samples_leaf: {best_min_samples_leaf}')\n"
   ]
  },
  {
   "cell_type": "code",
   "execution_count": null,
   "metadata": {},
   "outputs": [],
   "source": [
    "best_gb_model = gb_grid_cv.best_estimator_\n",
    "\n",
    "# Evaluate the model on the test set\n",
    "y_pred_gb = best_gb_model.predict(X_test)"
   ]
  },
  {
   "cell_type": "code",
   "execution_count": null,
   "metadata": {},
   "outputs": [],
   "source": [
    "print(\"Best Gradient Boosting Classifier:\")\n",
    "print(f\"Best Parameters: {gb_grid_cv.best_params_}\")\n",
    "print(f\"Accuracy on test set: {accuracy_score(y_test, y_pred_gb):.2f}\")\n",
    "print(\"Classification Report:\\n\", classification_report(y_test, y_pred_gb))"
   ]
  },
  {
   "cell_type": "code",
   "execution_count": null,
   "metadata": {},
   "outputs": [],
   "source": []
  },
  {
   "cell_type": "code",
   "execution_count": null,
   "metadata": {},
   "outputs": [],
   "source": []
  },
  {
   "cell_type": "code",
   "execution_count": null,
   "metadata": {},
   "outputs": [],
   "source": []
  },
  {
   "cell_type": "code",
   "execution_count": null,
   "metadata": {},
   "outputs": [],
   "source": []
  },
  {
   "cell_type": "code",
   "execution_count": null,
   "metadata": {},
   "outputs": [],
   "source": []
  },
  {
   "cell_type": "code",
   "execution_count": null,
   "metadata": {},
   "outputs": [],
   "source": []
  },
  {
   "cell_type": "code",
   "execution_count": null,
   "metadata": {},
   "outputs": [],
   "source": []
  },
  {
   "cell_type": "code",
   "execution_count": null,
   "metadata": {},
   "outputs": [],
   "source": []
  },
  {
   "cell_type": "code",
   "execution_count": null,
   "metadata": {},
   "outputs": [],
   "source": []
  },
  {
   "cell_type": "code",
   "execution_count": null,
   "metadata": {},
   "outputs": [],
   "source": []
  },
  {
   "cell_type": "code",
   "execution_count": null,
   "metadata": {},
   "outputs": [],
   "source": []
  },
  {
   "cell_type": "code",
   "execution_count": null,
   "metadata": {},
   "outputs": [],
   "source": []
  },
  {
   "cell_type": "code",
   "execution_count": null,
   "metadata": {},
   "outputs": [],
   "source": []
  },
  {
   "cell_type": "code",
   "execution_count": null,
   "metadata": {},
   "outputs": [],
   "source": []
  },
  {
   "cell_type": "code",
   "execution_count": null,
   "metadata": {},
   "outputs": [],
   "source": []
  }
 ],
 "metadata": {
  "kernelspec": {
   "display_name": "base",
   "language": "python",
   "name": "python3"
  },
  "language_info": {
   "codemirror_mode": {
    "name": "ipython",
    "version": 3
   },
   "file_extension": ".py",
   "mimetype": "text/x-python",
   "name": "python",
   "nbconvert_exporter": "python",
   "pygments_lexer": "ipython3",
   "version": "3.11.5"
  }
 },
 "nbformat": 4,
 "nbformat_minor": 2
}
